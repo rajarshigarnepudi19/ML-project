{
  "nbformat": 4,
  "nbformat_minor": 0,
  "metadata": {
    "colab": {
      "name": "MLproject_LogisticRegression.ipynb",
      "provenance": [],
      "collapsed_sections": [],
      "authorship_tag": "ABX9TyMsklx2xJYxLQ9VrHDzRBId",
      "include_colab_link": true
    },
    "kernelspec": {
      "name": "python3",
      "display_name": "Python 3"
    },
    "language_info": {
      "name": "python"
    }
  },
  "cells": [
    {
      "cell_type": "markdown",
      "metadata": {
        "id": "view-in-github",
        "colab_type": "text"
      },
      "source": [
        "<a href=\"https://colab.research.google.com/github/rajarshigarnepudi19/ML-project/blob/main/MLproject_LogisticRegression.ipynb\" target=\"_parent\"><img src=\"https://colab.research.google.com/assets/colab-badge.svg\" alt=\"Open In Colab\"/></a>"
      ]
    },
    {
      "cell_type": "code",
      "execution_count": null,
      "metadata": {
        "id": "0TjvKffbDveE"
      },
      "outputs": [],
      "source": [
        "from google.colab import drive\n",
        "drive.mount('/content/drive')"
      ]
    },
    {
      "cell_type": "code",
      "source": [
        "import pandas as pd\n"
      ],
      "metadata": {
        "id": "cKpUCkfnEZ_b"
      },
      "execution_count": null,
      "outputs": []
    },
    {
      "cell_type": "code",
      "source": [
        "df = pd.read_csv('/content/drive/MyDrive/train.csv')\n",
        "df.head()"
      ],
      "metadata": {
        "id": "1wbzEDWFEcj4"
      },
      "execution_count": null,
      "outputs": []
    },
    {
      "cell_type": "code",
      "source": [
        "import numpy as np\n",
        "import matplotlib.pyplot as plt\n",
        "import warnings\n",
        "warnings.filterwarnings('ignore') "
      ],
      "metadata": {
        "id": "josC6JawEgEH"
      },
      "execution_count": null,
      "outputs": []
    },
    {
      "cell_type": "code",
      "source": [
        "df.info()"
      ],
      "metadata": {
        "id": "EzLYvqCIEhy-"
      },
      "execution_count": null,
      "outputs": []
    },
    {
      "cell_type": "code",
      "source": [
        "pd.crosstab(df['Credit_History'],df['Loan_Status'],margins=True)\n"
      ],
      "metadata": {
        "id": "THhX0iXoElM7"
      },
      "execution_count": null,
      "outputs": []
    },
    {
      "cell_type": "code",
      "source": [
        "#To check the outliers\n",
        "df.boxplot(column='ApplicantIncome')"
      ],
      "metadata": {
        "id": "kOktGQCfEnKa"
      },
      "execution_count": null,
      "outputs": []
    },
    {
      "cell_type": "code",
      "source": [
        "df['ApplicantIncome'].hist(bins=20)"
      ],
      "metadata": {
        "id": "CLNCVOLQEpEl"
      },
      "execution_count": null,
      "outputs": []
    },
    {
      "cell_type": "code",
      "source": [
        "#To check the outliers\n",
        "df.boxplot(column='CoapplicantIncome')"
      ],
      "metadata": {
        "id": "oKkh4jWEErGJ"
      },
      "execution_count": null,
      "outputs": []
    },
    {
      "cell_type": "code",
      "source": [
        "df['CoapplicantIncome'].hist(bins=20)"
      ],
      "metadata": {
        "id": "KlYuqhKcEsmj"
      },
      "execution_count": null,
      "outputs": []
    },
    {
      "cell_type": "code",
      "source": [
        "#To understand the realtionship between applicant income and education\n",
        "df.boxplot(column='ApplicantIncome', by= 'Education')"
      ],
      "metadata": {
        "id": "8sp-j6wKEuUC"
      },
      "execution_count": null,
      "outputs": []
    },
    {
      "cell_type": "code",
      "source": [
        "df.boxplot(column='LoanAmount')"
      ],
      "metadata": {
        "id": "N2fQhyKHEwKG"
      },
      "execution_count": null,
      "outputs": []
    },
    {
      "cell_type": "code",
      "source": [
        "df['LoanAmount'].hist(bins=20)"
      ],
      "metadata": {
        "id": "Jgclrx3LEwmd"
      },
      "execution_count": null,
      "outputs": []
    },
    {
      "cell_type": "code",
      "source": [
        "df['LoanAmount_log']=np.log(df['LoanAmount'])"
      ],
      "metadata": {
        "id": "pKU53Z8mEzYm"
      },
      "execution_count": null,
      "outputs": []
    },
    {
      "cell_type": "markdown",
      "source": [
        "#Verifying whether data has any null values(Data Pre processing)\n"
      ],
      "metadata": {
        "id": "dHI5gTILE1QZ"
      }
    },
    {
      "cell_type": "code",
      "source": [
        "df.isnull().sum()"
      ],
      "metadata": {
        "id": "AQPLK0uyE1ph"
      },
      "execution_count": null,
      "outputs": []
    },
    {
      "cell_type": "code",
      "source": [
        "#filling the categorical term null values\n",
        "\n",
        "df['Gender']=df['Gender'].fillna(df['Gender'].mode()[0])\n",
        "df['Dependents']=df['Dependents'].fillna(df['Dependents'].mode()[0])\n",
        "df['Self_Employed']=df['Self_Employed'].fillna(df['Self_Employed'].mode()[0])\n",
        "df['Married']=df['Married'].fillna(df['Married'].mode()[0])"
      ],
      "metadata": {
        "id": "qOp2xJB0E4yV"
      },
      "execution_count": null,
      "outputs": []
    },
    {
      "cell_type": "code",
      "source": [
        "#filling the numerical null values\n",
        "df['LoanAmount']=df['LoanAmount'].fillna(df['LoanAmount'].mean())\n",
        "df['LoanAmount_log']=df['LoanAmount_log'].fillna(df['LoanAmount_log'].mean())\n",
        "\n",
        "df['Loan_Amount_Term']=df['Loan_Amount_Term'].fillna(df['Loan_Amount_Term'].mean())\n",
        "df['Credit_History']=df['Credit_History'].fillna(df['Credit_History'].median())"
      ],
      "metadata": {
        "id": "gLNxYo5pE8ha"
      },
      "execution_count": null,
      "outputs": []
    },
    {
      "cell_type": "code",
      "source": [
        "df.isnull().sum()"
      ],
      "metadata": {
        "id": "skRfP4D5E-Xx"
      },
      "execution_count": null,
      "outputs": []
    },
    {
      "cell_type": "code",
      "source": [
        "df['TotalIncome']=df['ApplicantIncome']+df['CoapplicantIncome']"
      ],
      "metadata": {
        "id": "O9p5NzdvE-ze"
      },
      "execution_count": null,
      "outputs": []
    },
    {
      "cell_type": "code",
      "source": [
        "df['TotalIncome'].hist(bins=20)\n",
        "df['TotalIncome_log']=np.log(df['TotalIncome'])\n",
        "df['TotalIncome_log'].hist(bins=20)"
      ],
      "metadata": {
        "id": "tOwhSBphFCfB"
      },
      "execution_count": null,
      "outputs": []
    },
    {
      "cell_type": "code",
      "source": [
        "df.head()"
      ],
      "metadata": {
        "id": "NFmC9AVjFGeC"
      },
      "execution_count": null,
      "outputs": []
    },
    {
      "cell_type": "code",
      "source": [
        "#converting the categorical values to numerical values\n",
        "df['Loan_Status'].replace('Y',1,inplace=True)\n",
        "df['Loan_Status'].replace('N',0,inplace=True)\n",
        "df['Gender'].replace('Male',1,inplace=True)\n",
        "df['Gender'].replace('Female',0,inplace=True)\n",
        "df['Married'].replace('Yes',1,inplace=True)\n",
        "df['Married'].replace('No',0,inplace=True)\n",
        "\n",
        "#df['Dependents'].r('0',0,inplace=True)\n",
        "#df['Dependents'].replace('1',1,inplace=True)\n",
        "#df['Dependents'].replace('2',2,inplace=True)\n",
        "#df['Dependents'].replace('3',3,inplace=True)\n",
        "df['Dependents'].replace('3+',3,inplace=True)\n",
        "df['Education'].replace('Graduate',1,inplace=True)\n",
        "df['Education'].replace('Not Graduate',0,inplace=True)\n",
        "\n",
        "df['Self_Employed'].replace('Yes',1,inplace=True)\n",
        "df['Self_Employed'].replace('No',0,inplace=True)\n",
        "df['Property_Area'].replace('Urban',2,inplace=True)\n",
        "df['Property_Area'].replace('Rural',0,inplace=True)\n",
        "df['Property_Area'].replace('Semiurban',1,inplace=True)"
      ],
      "metadata": {
        "id": "qPbH4ay1FJRS"
      },
      "execution_count": null,
      "outputs": []
    },
    {
      "cell_type": "code",
      "source": [
        "print(df['Loan_Status'].value_counts())\n",
        "print(df['Gender'].value_counts())\n",
        "print(df['Married'].value_counts())\n",
        "print(df['Dependents'].value_counts())\n",
        "print(df['Education'].value_counts())\n",
        "print(df['Self_Employed'].value_counts())\n",
        "print(df['Property_Area'].value_counts())\n",
        "print(df['LoanAmount'].value_counts())\n",
        "print(df['Loan_Amount_Term'].value_counts())\n",
        "print(df['Credit_History'].value_counts())\n",
        "print(df['LoanAmount_log'].value_counts())\n",
        "print(df['TotalIncome'].value_counts())\n",
        "print(df['TotalIncome_log'].value_counts())\n"
      ],
      "metadata": {
        "id": "B6xABzPTFNda"
      },
      "execution_count": null,
      "outputs": []
    },
    {
      "cell_type": "code",
      "source": [
        "df.head()"
      ],
      "metadata": {
        "id": "zCTgD7kgFRP9"
      },
      "execution_count": null,
      "outputs": []
    },
    {
      "cell_type": "code",
      "source": [
        "#checking the categorical dependant variable correlation with other variables\n",
        "corr = df.corr()\n",
        "corr.style.background_gradient(cmap='coolwarm').set_precision(2)"
      ],
      "metadata": {
        "id": "J9RoTSHLFN3B"
      },
      "execution_count": null,
      "outputs": []
    },
    {
      "cell_type": "markdown",
      "source": [
        "#Model Build and training"
      ],
      "metadata": {
        "id": "Q59jGK5SFWdw"
      }
    },
    {
      "cell_type": "code",
      "source": [
        "from sklearn.model_selection import train_test_split\n",
        "from sklearn.linear_model import LogisticRegression"
      ],
      "metadata": {
        "id": "gpyOcgr6FTPp"
      },
      "execution_count": null,
      "outputs": []
    },
    {
      "cell_type": "code",
      "source": [
        "Y = df['Loan_Status']\n",
        "X = df.drop(['Loan_ID','Loan_Status'], axis = 1)"
      ],
      "metadata": {
        "id": "HMoNVkscFaC5"
      },
      "execution_count": null,
      "outputs": []
    },
    {
      "cell_type": "code",
      "source": [
        "#X=df.iloc[1:614,1:16].values\n",
        "#Y=df.iloc[1:614,12:13].values\n",
        "X_train,X_test,Y_train,Y_test=train_test_split(X,Y,test_size=0.2,random_state=0)\n",
        "print(X_train.size,X_test.size,Y_train.size,Y_test.size)"
      ],
      "metadata": {
        "id": "tIoJbWyYFczR"
      },
      "execution_count": null,
      "outputs": []
    },
    {
      "cell_type": "code",
      "source": [
        "model=LogisticRegression()\n",
        "model_fit=model.fit(X_train,Y_train)\n",
        "pred=model.predict(X_test)"
      ],
      "metadata": {
        "id": "7yn_mRKqFeiN"
      },
      "execution_count": null,
      "outputs": []
    },
    {
      "cell_type": "code",
      "source": [
        "print(pred)\n",
        "print(Y_test)"
      ],
      "metadata": {
        "id": "hMLKI6v8FfPA"
      },
      "execution_count": null,
      "outputs": []
    },
    {
      "cell_type": "code",
      "source": [
        "from sklearn.metrics import accuracy_score\n",
        "log_result= accuracy_score(pred,Y_test)\n",
        "print(log_result)"
      ],
      "metadata": {
        "id": "j_fQ6st8Fg9B"
      },
      "execution_count": null,
      "outputs": []
    }
  ]
}